{
 "cells": [
  {
   "cell_type": "markdown",
   "id": "35c097cf",
   "metadata": {},
   "source": [
    "## Data Extraction"
   ]
  },
  {
   "cell_type": "code",
   "execution_count": null,
   "id": "525a8007",
   "metadata": {},
   "outputs": [],
   "source": [
    "import pandas as pd\n",
    "# from sqlalchemy  import "
   ]
  },
  {
   "cell_type": "markdown",
   "id": "b8bcce71",
   "metadata": {},
   "source": []
  }
 ],
 "metadata": {
  "kernelspec": {
   "display_name": "base",
   "language": "python",
   "name": "python3"
  },
  "language_info": {
   "name": "python",
   "version": "3.12.7"
  }
 },
 "nbformat": 4,
 "nbformat_minor": 5
}
